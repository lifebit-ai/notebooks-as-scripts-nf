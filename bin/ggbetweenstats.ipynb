{
 "cells": [
  {
   "cell_type": "markdown",
   "id": "385b5c25",
   "metadata": {
    "tags": [
     "papermill-error-cell-tag"
    ]
   },
   "source": [
    "<span style=\"color:red; font-family:Helvetica Neue, Helvetica, Arial, sans-serif; font-size:2em;\">An Exception was encountered at '<a href=\"#papermill-error-cell\">In [7]</a>'.</span>"
   ]
  },
  {
   "cell_type": "code",
   "execution_count": null,
   "id": "1ccaad05",
   "metadata": {
    "papermill": {
     "duration": 0.22108,
     "end_time": "2021-05-20T13:14:50.143505",
     "exception": false,
     "start_time": "2021-05-20T13:14:49.922425",
     "status": "completed"
    },
    "tags": [
     "injected-parameters"
    ]
   },
   "outputs": [],
   "source": [
    "# Parameters\n",
    "year = 1997\n",
    "plot_type = \"boxviolin\"\n",
    "continent_to_exclude = \"Europe\"\n"
   ]
  },
  {
   "cell_type": "code",
   "execution_count": null,
   "id": "d8bf882c",
   "metadata": {
    "papermill": {
     "duration": 0.581205,
     "end_time": "2021-05-20T13:14:50.774951",
     "exception": false,
     "start_time": "2021-05-20T13:14:50.193746",
     "status": "completed"
    },
    "tags": []
   },
   "outputs": [],
   "source": [
    "# command:\n",
    "## papermill --kernel ir ggbetweenstats.ipynb ggbetweenstats.ipynb \\\n",
    "## -p plot_type \"boxviolin\" \\\n",
    "## -p continent_to_exclude \"Asia\" \\\n",
    "## -p year 1987"
   ]
  },
  {
   "cell_type": "markdown",
   "id": "3f9d9dcb",
   "metadata": {
    "papermill": {
     "duration": 0.028201,
     "end_time": "2021-05-20T13:14:50.853633",
     "exception": false,
     "start_time": "2021-05-20T13:14:50.825432",
     "status": "completed"
    },
    "tags": []
   },
   "source": [
    "The function `ggstatsplot::ggbetweenstats` is designed to facilitate \n",
    "**data exploration**, and for making highly customizable **publication-ready plots**,\n",
    "with relevant statistical details included in the plot itself if desired. We\n",
    "will see examples of how to use this function in this vignette.\n",
    "\n",
    "To begin with, here are some instances where you would want to use\n",
    "`ggbetweenstats`-\n",
    "\n",
    " - to check if a continuous variable differs across multiple groups/conditions\n",
    "\n",
    " - to compare distributions visually and check for outliers\n",
    "\n",
    "**Note**: This vignette uses the pipe operator (`%>%`), if you are not\n",
    "familiar with this operator, here is a good explanation:\n",
    "<http://r4ds.had.co.nz/pipes.html>\n",
    "\n",
    "## Comparisons between groups with `ggbetweenstats`\n",
    "\n",
    "To illustrate how this function can be used, we will use the `gapminder` dataset\n",
    "throughout this vignette. This dataset provides values for life expectancy, GDP\n",
    "per capita, and population, at 5 year intervals, from 1952 to 2007, for each of\n",
    "142 countries (courtesy [Gapminder Foundation](https://www.gapminder.org/)).\n",
    "Let's have a look at the data-"
   ]
  },
  {
   "cell_type": "code",
   "execution_count": null,
   "id": "52e2af4e",
   "metadata": {
    "message": false,
    "name": "gapminder",
    "papermill": {
     "duration": 1.735959,
     "end_time": "2021-05-20T13:14:52.639194",
     "exception": false,
     "start_time": "2021-05-20T13:14:50.903235",
     "status": "completed"
    },
    "tags": [],
    "warning": false
   },
   "outputs": [],
   "source": [
    "library(gapminder)\n",
    "\n",
    "dplyr::glimpse(x = gapminder::gapminder)"
   ]
  },
  {
   "cell_type": "markdown",
   "id": "c167f822",
   "metadata": {
    "papermill": {
     "duration": 0.050028,
     "end_time": "2021-05-20T13:14:52.752541",
     "exception": false,
     "start_time": "2021-05-20T13:14:52.702513",
     "status": "completed"
    },
    "tags": []
   },
   "source": [
    "**Note**: For the remainder of the vignette, we're going to exclude *Oceania*\n",
    "from the analysis simply because there are so few observations (countries).\n",
    "\n",
    "Suppose the first thing we want to inspect is the distribution of life\n",
    "expectancy for the countries of a continent in 2007. We also want to know if the\n",
    "mean differences in life expectancy between the continents is statistically\n",
    "significant.\n",
    "\n",
    "The simplest form of the function call is-"
   ]
  },
  {
   "cell_type": "code",
   "execution_count": null,
   "id": "7cbc8a8d",
   "metadata": {
    "fig.height": 6,
    "fig.width": 8,
    "message": false,
    "name": "ggbetweenstats1",
    "papermill": {
     "duration": 18.076449,
     "end_time": "2021-05-20T13:15:10.915895",
     "exception": false,
     "start_time": "2021-05-20T13:14:52.839446",
     "status": "completed"
    },
    "tags": [],
    "warning": false
   },
   "outputs": [],
   "source": [
    "# since the confidence intervals for the effect sizes are computed using\n",
    "# bootstrapping, important to set a seed for reproducibility\n",
    "options(repr.plot.width=12, repr.plot.height=6)\n",
    "set.seed(123)\n",
    "\n",
    "# function call\n",
    "ggstatsplot::ggbetweenstats(\n",
    "  data = dplyr::filter(gapminder::gapminder, \n",
    "                       year == year, \n",
    "                       continent != continent_to_exclude),\n",
    "  x = continent,\n",
    "  y = lifeExp,\n",
    "  nboot = 10,\n",
    "  messages = FALSE\n",
    ")"
   ]
  },
  {
   "cell_type": "markdown",
   "id": "0d5bf7a1",
   "metadata": {
    "papermill": {
     "duration": 0.13826,
     "end_time": "2021-05-20T13:15:11.231692",
     "exception": false,
     "start_time": "2021-05-20T13:15:11.093432",
     "status": "completed"
    },
    "tags": []
   },
   "source": [
    "**Note**:\n",
    "  \n",
    "  - The function automatically decides whether an independent samples *t*-test\n",
    "    is preferred (for 2 groups) or a Oneway ANOVA (3 or more groups). based on\n",
    "    the number of levels in the grouping variable.\n",
    "    \n",
    "  - The output of the function is a `ggplot` object which means that it can be\n",
    "    further modified with `ggplot2` functions.\n",
    "\n",
    "As can be seen from the plot, the function by default returns Bayes Factor for\n",
    "the test. If the null hypothesis can't be rejected with the null hypothesis\n",
    "significance testing (NHST) approach, the Bayesian approach can help index\n",
    "evidence in favor of the null hypothesis (i.e., $BF_{01}$).\n",
    "\n",
    "By default, natural logarithms are shown because Bayes Factor values can\n",
    "sometimes be pretty large. Having values on logarithmic scale also makes it easy\n",
    "to compare evidence in favor alternative ($BF_{10}$) versus null ($BF_{01}$)\n",
    "hypotheses (since $log_{e}(BF_{01}) = - log_{e}(BF_{10})$). \n",
    "\n",
    "We can make the output much more aesthetically pleasing as well as informative\n",
    "by making use of the many optional parameters in `ggbetweenstats`. We'll add a\n",
    "title and caption, better `x` and `y` axis labels, and tag and label the\n",
    "outliers in the data. We can and will change the overall theme as well as the\n",
    "color palette in use."
   ]
  },
  {
   "cell_type": "code",
   "execution_count": null,
   "id": "e667974a",
   "metadata": {
    "fig.height": 6,
    "fig.width": 8,
    "message": false,
    "name": "ggbetweenstats2",
    "papermill": {
     "duration": 8.758429,
     "end_time": "2021-05-20T13:15:20.101805",
     "exception": false,
     "start_time": "2021-05-20T13:15:11.343376",
     "status": "completed"
    },
    "tags": [],
    "warning": false
   },
   "outputs": [],
   "source": [
    "# for reproducibility\n",
    "set.seed(123)\n",
    "library(ggstatsplot)\n",
    "library(gapminder)\n",
    "\n",
    "# plot\n",
    "ggstatsplot::ggbetweenstats(\n",
    "  data = dplyr::filter(.data = gapminder, year == 2007, continent != \"Oceania\"),\n",
    "  x = continent, # grouping/independent variable\n",
    "  y = lifeExp, # dependent variables\n",
    "  type = \"robust\", # type of statistics\n",
    "  xlab = \"Continent\", # label for the x-axis\n",
    "  ylab = \"Life expectancy\", # label for the y-axis\n",
    "  plot.type = \"boxviolin\", # type of plot\n",
    "  outlier.tagging = TRUE, # whether outliers should be flagged\n",
    "  outlier.coef = 1.5, # coefficient for Tukey's rule\n",
    "  outlier.label = country, # label to attach to outlier values\n",
    "  outlier.label.args = list(color = \"red\"), # outlier point label color\n",
    "  # turn off messages\n",
    "  ggtheme = ggplot2::theme_gray(), # a different theme\n",
    "  package = \"yarrr\", # package from which color palette is to be taken\n",
    "  palette = \"info2\", # choosing a different color palette\n",
    "  title = \"Comparison of life expectancy across continents (Year: 2007)\",\n",
    "  caption = \"Source: Gapminder Foundation\"\n",
    ") + # modifying the plot further\n",
    "  ggplot2::scale_y_continuous(\n",
    "    limits = c(35, 85),\n",
    "    breaks = seq(from = 35, to = 85, by = 5)\n",
    "  )"
   ]
  },
  {
   "cell_type": "markdown",
   "id": "0a663d04",
   "metadata": {
    "lines_to_next_cell": 0,
    "papermill": {
     "duration": 0.237023,
     "end_time": "2021-05-20T13:15:20.681176",
     "exception": false,
     "start_time": "2021-05-20T13:15:20.444153",
     "status": "completed"
    },
    "tags": []
   },
   "source": [
    "As can be appreciated from the effect size (partial eta squared) of 0.635, there\n",
    "are large differences in the mean life expectancy across continents.\n",
    "Importantly, this plot also helps us appreciate the distributions within any\n",
    "given continent. For example, although Asian countries are doing much better\n",
    "than African countries, on average, Afghanistan has a particularly grim average\n",
    "for the Asian continent, possibly reflecting the war and the political turmoil.\n",
    "\n",
    "So far we have only used a classic parametric test and a boxviolin plot, \n",
    "but we can also use other available options:\n",
    "\n",
    "  - The `type` (of test) argument also accepts the following abbreviations:\n",
    "    `\"p\"` (for *parametric*), `\"np\"` (for *nonparametric*), `\"r\"` (for\n",
    "    *robust*), `\"bf\"` (for *Bayes Factor*). \n",
    "\n",
    "  - The type of plot to be displayed can also be modified (`\"box\"`, `\"violin\"`,\n",
    "  or `\"boxviolin\"`).\n",
    "\n",
    "  - The color palettes can be modified.\n",
    "\n",
    "Let's use the `combine_plots` function to make one plot from four separate\n",
    "plots that demonstrates all of these options. Let's compare life expectancy for\n",
    "all countries for the first and last year of available data 1957 and 2007. We\n",
    "will generate the plots one by one and then use `combine_plots` to merge them\n",
    "into one plot with some common labeling. It is possible, but not necessarily\n",
    "recommended, to make each plot have different colors or themes.\n",
    "\n",
    "For example,"
   ]
  },
  {
   "cell_type": "code",
   "execution_count": null,
   "id": "146d8cb1",
   "metadata": {
    "papermill": {
     "duration": 2.237835,
     "end_time": "2021-05-20T13:15:23.041061",
     "exception": false,
     "start_time": "2021-05-20T13:15:20.803226",
     "status": "completed"
    },
    "tags": []
   },
   "outputs": [],
   "source": [
    "?ggstatsplot::ggbetweenstats"
   ]
  },
  {
   "cell_type": "markdown",
   "id": "8ee7c4da",
   "metadata": {
    "tags": [
     "papermill-error-cell-tag"
    ]
   },
   "source": [
    "<span id=\"papermill-error-cell\" style=\"color:red; font-family:Helvetica Neue, Helvetica, Arial, sans-serif; font-size:2em;\">Execution using papermill encountered an exception here and stopped:</span>"
   ]
  }
 ],
 "metadata": {
  "jupytext": {
   "cell_metadata_filter": "warning,tags,name,fig.height,message,fig.width,-all",
   "main_language": "R",
   "notebook_metadata_filter": "-all"
  },
  "kernelspec": {
   "display_name": "R",
   "language": "R",
   "name": "ir"
  },
  "language_info": {
   "codemirror_mode": "r",
   "file_extension": ".r",
   "mimetype": "text/x-r-source",
   "name": "R",
   "pygments_lexer": "r",
   "version": "4.0.3"
  },
  "papermill": {
   "default_parameters": {},
   "duration": 46.183651,
   "end_time": "2021-05-20T13:15:31.992781",
   "environment_variables": {},
   "exception": true,
   "input_path": "/opt/bin/ggbetweenstats.ipynb",
   "output_path": "1997_boxviolin_output.ipynb",
   "parameters": {
    "continent_to_exclude": "Europe",
    "plot_type": "boxviolin",
    "year": 1997
   },
   "start_time": "2021-05-20T13:14:45.809130",
   "version": "2.2.2"
  }
 },
 "nbformat": 4,
 "nbformat_minor": 5
}
